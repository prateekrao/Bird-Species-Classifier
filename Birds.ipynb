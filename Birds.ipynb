{
  "nbformat": 4,
  "nbformat_minor": 0,
  "metadata": {
    "colab": {
      "name": "Birds.ipynb",
      "provenance": [],
      "authorship_tag": "ABX9TyOoiwDiG1LmFcunRxnek5Jn",
      "include_colab_link": true
    },
    "kernelspec": {
      "name": "python3",
      "display_name": "Python 3"
    },
    "accelerator": "GPU"
  },
  "cells": [
    {
      "cell_type": "markdown",
      "metadata": {
        "id": "view-in-github",
        "colab_type": "text"
      },
      "source": [
        "<a href=\"https://colab.research.google.com/github/r-prateek/Bird-Species-Classifier/blob/main/Birds.ipynb\" target=\"_parent\"><img src=\"https://colab.research.google.com/assets/colab-badge.svg\" alt=\"Open In Colab\"/></a>"
      ]
    },
    {
      "cell_type": "code",
      "metadata": {
        "id": "rGdbCEgIkU4e"
      },
      "source": [
        "! pip install --upgrade --force-reinstall --no-deps kaggle\n",
        "from google.colab import files\n",
        "files.upload()\n",
        "! mkdir ~/.kaggle\n",
        "! cp kaggle.json ~/.kaggle/\n",
        "! chmod 600 ~/.kaggle/kaggle.json\n",
        "! kaggle datasets list\n",
        "! kaggle datasets download -d gpiosenka/100-bird-species\n",
        "! unzip 100-bird-species.zip -d dataset"
      ],
      "execution_count": null,
      "outputs": []
    },
    {
      "cell_type": "code",
      "metadata": {
        "id": "Kq281wH4kjdF"
      },
      "source": [
        "import tensorflow as tf\n",
        "import matplotlib.pyplot as plt\n"
      ],
      "execution_count": 4,
      "outputs": []
    },
    {
      "cell_type": "code",
      "metadata": {
        "id": "1CXtD5H-k3-k"
      },
      "source": [
        "train_path = \"/content/dataset/train\"\n",
        "test_path = \"/content/dataset/test\""
      ],
      "execution_count": 9,
      "outputs": []
    },
    {
      "cell_type": "code",
      "metadata": {
        "id": "Ul2Gyb_JlEhE"
      },
      "source": [
        "datagen = tf.keras.preprocessing.image.ImageDataGenerator(\n",
        "    rescale = 1./255,\n",
        "    horizontal_flip = True,\n",
        "    vertical_flip = True,\n",
        ")"
      ],
      "execution_count": 41,
      "outputs": []
    },
    {
      "cell_type": "code",
      "metadata": {
        "colab": {
          "base_uri": "https://localhost:8080/"
        },
        "id": "YSJYK7UilG2D",
        "outputId": "aecadfb1-b524-459c-bf63-21536862a8c5"
      },
      "source": [
        "train_data = datagen.flow_from_directory(\n",
        "    train_path,\n",
        "    target_size = (300, 300),\n",
        "    color_mode = 'rgb',\n",
        "    batch_size = 32,\n",
        "    shuffle = True,\n",
        "    seed = 865\n",
        ")"
      ],
      "execution_count": 42,
      "outputs": [
        {
          "output_type": "stream",
          "text": [
            "Found 35215 images belonging to 250 classes.\n"
          ],
          "name": "stdout"
        }
      ]
    },
    {
      "cell_type": "code",
      "metadata": {
        "colab": {
          "base_uri": "https://localhost:8080/"
        },
        "id": "G62YWQHClJDU",
        "outputId": "ef272249-41a0-4bd2-9a36-ffaec3d4f132"
      },
      "source": [
        "test_data = datagen.flow_from_directory(\n",
        "    test_path,\n",
        "    target_size = (300, 300),\n",
        "    color_mode = 'rgb',\n",
        "    batch_size = 32,\n",
        "    shuffle = True,\n",
        "    seed = 865\n",
        ")"
      ],
      "execution_count": 43,
      "outputs": [
        {
          "output_type": "stream",
          "text": [
            "Found 1250 images belonging to 250 classes.\n"
          ],
          "name": "stdout"
        }
      ]
    },
    {
      "cell_type": "code",
      "metadata": {
        "id": "YT-UCKKilLB7"
      },
      "source": [
        "inception = tf.keras.applications.InceptionResNetV2( \n",
        "    include_top = False,\n",
        "    weights = 'imagenet',\n",
        "    input_shape = (300, 300, 3)\n",
        ")"
      ],
      "execution_count": 44,
      "outputs": []
    },
    {
      "cell_type": "code",
      "metadata": {
        "id": "Uqwvg-CJlREU"
      },
      "source": [
        "inception.trainable = False\n",
        "inception.summary()"
      ],
      "execution_count": null,
      "outputs": []
    },
    {
      "cell_type": "code",
      "metadata": {
        "id": "-ZSgKW24lpsx"
      },
      "source": [
        "model = tf.keras.Sequential()"
      ],
      "execution_count": 46,
      "outputs": []
    },
    {
      "cell_type": "code",
      "metadata": {
        "id": "IqG-KjhFlsDU"
      },
      "source": [
        "model.add(inception)\n",
        "model.add(tf.keras.layers.GlobalAveragePooling2D())\n",
        "model.add(tf.keras.layers.Dropout(0.4))\n",
        "model.add(tf.keras.layers.Dense(1024, activation='relu'))\n",
        "model.add(tf.keras.layers.Dropout(0.33))\n",
        "model.add(tf.keras.layers.Dense(1024, activation='relu'))\n",
        "model.add(tf.keras.layers.BatchNormalization())\n",
        "model.add(tf.keras.layers.Dense(512, activation='relu'))\n",
        "model.add(tf.keras.layers.Dense(250, activation='softmax'))"
      ],
      "execution_count": 47,
      "outputs": []
    },
    {
      "cell_type": "code",
      "metadata": {
        "id": "VpAk7Z5ImAYF"
      },
      "source": [
        "model.summary()"
      ],
      "execution_count": null,
      "outputs": []
    },
    {
      "cell_type": "code",
      "metadata": {
        "id": "3xU0th-dmDwX"
      },
      "source": [
        "model.compile(optimizer='adam', loss = 'categorical_crossentropy', metrics = ['accuracy'])"
      ],
      "execution_count": 49,
      "outputs": []
    },
    {
      "cell_type": "code",
      "metadata": {
        "colab": {
          "base_uri": "https://localhost:8080/"
        },
        "id": "loRaQtiRmF1D",
        "outputId": "90216fbe-7fbe-4644-d05d-3055f1fc7792"
      },
      "source": [
        "history = model.fit(train_data, validation_data=test_data, epochs = 25)"
      ],
      "execution_count": 50,
      "outputs": [
        {
          "output_type": "stream",
          "text": [
            "Epoch 1/25\n",
            "1101/1101 [==============================] - 218s 190ms/step - loss: 3.5443 - accuracy: 0.2394 - val_loss: 1.3008 - val_accuracy: 0.6008\n",
            "Epoch 2/25\n",
            "1101/1101 [==============================] - 206s 187ms/step - loss: 1.8809 - accuracy: 0.4892 - val_loss: 1.0901 - val_accuracy: 0.6776\n",
            "Epoch 3/25\n",
            "1101/1101 [==============================] - 206s 187ms/step - loss: 1.5928 - accuracy: 0.5518 - val_loss: 0.8533 - val_accuracy: 0.7392\n",
            "Epoch 4/25\n",
            "1101/1101 [==============================] - 206s 187ms/step - loss: 1.4529 - accuracy: 0.5873 - val_loss: 0.8173 - val_accuracy: 0.7432\n",
            "Epoch 5/25\n",
            "1101/1101 [==============================] - 206s 187ms/step - loss: 1.3654 - accuracy: 0.6088 - val_loss: 0.7476 - val_accuracy: 0.7712\n",
            "Epoch 6/25\n",
            "1101/1101 [==============================] - 206s 187ms/step - loss: 1.3028 - accuracy: 0.6246 - val_loss: 0.6612 - val_accuracy: 0.7936\n",
            "Epoch 7/25\n",
            "1101/1101 [==============================] - 206s 187ms/step - loss: 1.2208 - accuracy: 0.6445 - val_loss: 0.6164 - val_accuracy: 0.8032\n",
            "Epoch 8/25\n",
            "1101/1101 [==============================] - 206s 187ms/step - loss: 1.1888 - accuracy: 0.6531 - val_loss: 0.5775 - val_accuracy: 0.8240\n",
            "Epoch 9/25\n",
            "1101/1101 [==============================] - 205s 186ms/step - loss: 1.1545 - accuracy: 0.6654 - val_loss: 0.5792 - val_accuracy: 0.8152\n",
            "Epoch 10/25\n",
            "1101/1101 [==============================] - 206s 187ms/step - loss: 1.1042 - accuracy: 0.6752 - val_loss: 0.6321 - val_accuracy: 0.7968\n",
            "Epoch 11/25\n",
            "1101/1101 [==============================] - 206s 187ms/step - loss: 1.0721 - accuracy: 0.6803 - val_loss: 0.5295 - val_accuracy: 0.8400\n",
            "Epoch 12/25\n",
            "1101/1101 [==============================] - 206s 187ms/step - loss: 1.0313 - accuracy: 0.6930 - val_loss: 0.4898 - val_accuracy: 0.8456\n",
            "Epoch 13/25\n",
            "1101/1101 [==============================] - 206s 187ms/step - loss: 1.0239 - accuracy: 0.6928 - val_loss: 0.5214 - val_accuracy: 0.8320\n",
            "Epoch 14/25\n",
            "1101/1101 [==============================] - 206s 187ms/step - loss: 0.9666 - accuracy: 0.7088 - val_loss: 0.5308 - val_accuracy: 0.8384\n",
            "Epoch 15/25\n",
            "1101/1101 [==============================] - 206s 187ms/step - loss: 0.9746 - accuracy: 0.7083 - val_loss: 0.4477 - val_accuracy: 0.8496\n",
            "Epoch 16/25\n",
            "1101/1101 [==============================] - 206s 187ms/step - loss: 0.9367 - accuracy: 0.7186 - val_loss: 0.4407 - val_accuracy: 0.8600\n",
            "Epoch 17/25\n",
            "1101/1101 [==============================] - 206s 187ms/step - loss: 0.9343 - accuracy: 0.7179 - val_loss: 0.4830 - val_accuracy: 0.8384\n",
            "Epoch 18/25\n",
            "1101/1101 [==============================] - 206s 187ms/step - loss: 0.8984 - accuracy: 0.7300 - val_loss: 0.4384 - val_accuracy: 0.8616\n",
            "Epoch 19/25\n",
            "1101/1101 [==============================] - 206s 187ms/step - loss: 0.8756 - accuracy: 0.7336 - val_loss: 0.4319 - val_accuracy: 0.8640\n",
            "Epoch 20/25\n",
            "1101/1101 [==============================] - 206s 187ms/step - loss: 0.8637 - accuracy: 0.7321 - val_loss: 0.4542 - val_accuracy: 0.8568\n",
            "Epoch 21/25\n",
            "1101/1101 [==============================] - 206s 187ms/step - loss: 0.8578 - accuracy: 0.7374 - val_loss: 0.4136 - val_accuracy: 0.8688\n",
            "Epoch 22/25\n",
            "1101/1101 [==============================] - 206s 187ms/step - loss: 0.8499 - accuracy: 0.7410 - val_loss: 0.4298 - val_accuracy: 0.8632\n",
            "Epoch 23/25\n",
            "1101/1101 [==============================] - 206s 187ms/step - loss: 0.8256 - accuracy: 0.7466 - val_loss: 0.4475 - val_accuracy: 0.8656\n",
            "Epoch 24/25\n",
            "1101/1101 [==============================] - 206s 187ms/step - loss: 0.8025 - accuracy: 0.7548 - val_loss: 0.4301 - val_accuracy: 0.8728\n",
            "Epoch 25/25\n",
            "1101/1101 [==============================] - 206s 187ms/step - loss: 0.8082 - accuracy: 0.7539 - val_loss: 0.3709 - val_accuracy: 0.8872\n"
          ],
          "name": "stdout"
        }
      ]
    },
    {
      "cell_type": "code",
      "metadata": {
        "colab": {
          "base_uri": "https://localhost:8080/",
          "height": 296
        },
        "id": "jiYKz6MIokAZ",
        "outputId": "080e1d89-6062-42a6-ddf3-ff3077167fc5"
      },
      "source": [
        "plt.plot(history.history['accuracy'], label = 'Accuracy')\n",
        "plt.plot(history.history['val_accuracy'], label = 'Validation Accuracy')\n",
        "plt.xlabel('Epochs')\n",
        "plt.ylabel('Accuracy')\n",
        "plt.legend(loc = \"lower right\")"
      ],
      "execution_count": 52,
      "outputs": [
        {
          "output_type": "execute_result",
          "data": {
            "text/plain": [
              "<matplotlib.legend.Legend at 0x7ff2609df590>"
            ]
          },
          "metadata": {
            "tags": []
          },
          "execution_count": 52
        },
        {
          "output_type": "display_data",
          "data": {
            "image/png": "[encoded data removed]",
            "text/plain": [
              "<Figure size 432x288 with 1 Axes>"
            ]
          },
          "metadata": {
            "tags": [],
            "needs_background": "light"
          }
        }
      ]
    },
    {
      "cell_type": "code",
      "metadata": {
        "colab": {
          "base_uri": "https://localhost:8080/",
          "height": 296
        },
        "id": "ZkvyGYlNol9W",
        "outputId": "331a5793-72d6-4d55-eaae-7ddb1447d40c"
      },
      "source": [
        "plt.plot(history.history['loss'], label = 'Loss')\n",
        "plt.plot(history.history['val_loss'], label = 'Validation Loss')\n",
        "plt.xlabel('Epochs')\n",
        "plt.ylabel('Loss')\n",
        "plt.legend(loc = \"lower right\")"
      ],
      "execution_count": 53,
      "outputs": [
        {
          "output_type": "execute_result",
          "data": {
            "text/plain": [
              "<matplotlib.legend.Legend at 0x7ff262983350>"
            ]
          },
          "metadata": {
            "tags": []
          },
          "execution_count": 53
        },
        {
          "output_type": "display_data",
          "data": {
            "image/png": "[encoded data removed]",
            "text/plain": [
              "<Figure size 432x288 with 1 Axes>"
            ]
          },
          "metadata": {
            "tags": [],
            "needs_background": "light"
          }
        }
      ]
    },
    {
      "cell_type": "code",
      "metadata": {
        "id": "UtrhT3MPon06"
      },
      "source": [
        "model.save('birds2.h5')"
      ],
      "execution_count": 56,
      "outputs": []
    }
  ]
}