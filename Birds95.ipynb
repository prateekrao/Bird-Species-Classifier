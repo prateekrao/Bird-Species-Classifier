{
  "nbformat": 4,
  "nbformat_minor": 0,
  "metadata": {
    "colab": {
      "name": "Birds.ipynb",
      "provenance": [],
      "collapsed_sections": [],
      "include_colab_link": true
    },
    "kernelspec": {
      "name": "python3",
      "display_name": "Python 3"
    },
    "accelerator": "GPU"
  },
  "cells": [
    {
      "cell_type": "markdown",
      "metadata": {
        "id": "view-in-github",
        "colab_type": "text"
      },
      "source": [
        "<a href=\"https://colab.research.google.com/github/r-prateek/Bird-Species-Classifier/blob/main/Birds95.ipynb\" target=\"_parent\"><img src=\"https://colab.research.google.com/assets/colab-badge.svg\" alt=\"Open In Colab\"/></a>"
      ]
    },
    {
      "cell_type": "code",
      "metadata": {
        "id": "rGdbCEgIkU4e"
      },
      "source": [
        "! pip install --upgrade --force-reinstall --no-deps kaggle\n",
        "from google.colab import files\n",
        "files.upload()\n",
        "! mkdir ~/.kaggle\n",
        "! cp kaggle.json ~/.kaggle/\n",
        "! chmod 600 ~/.kaggle/kaggle.json\n",
        "! kaggle datasets list\n",
        "! kaggle datasets download -d gpiosenka/100-bird-species\n",
        "! unzip 100-bird-species.zip -d dataset"
      ],
      "execution_count": null,
      "outputs": []
    },
    {
      "cell_type": "code",
      "metadata": {
        "id": "Kq281wH4kjdF"
      },
      "source": [
        "import tensorflow as tf\n",
        "import matplotlib.pyplot as plt\n"
      ],
      "execution_count": 2,
      "outputs": []
    },
    {
      "cell_type": "code",
      "metadata": {
        "id": "1CXtD5H-k3-k"
      },
      "source": [
        "train_path = \"/content/dataset/train\"\n",
        "test_path = \"/content/dataset/test\""
      ],
      "execution_count": 3,
      "outputs": []
    },
    {
      "cell_type": "code",
      "metadata": {
        "id": "Ul2Gyb_JlEhE"
      },
      "source": [
        "datagen = tf.keras.preprocessing.image.ImageDataGenerator(\n",
        "    rescale = 1./255,\n",
        "    horizontal_flip = True,\n",
        "    vertical_flip = True,\n",
        ")"
      ],
      "execution_count": 14,
      "outputs": []
    },
    {
      "cell_type": "code",
      "metadata": {
        "colab": {
          "base_uri": "https://localhost:8080/"
        },
        "id": "YSJYK7UilG2D",
        "outputId": "d3f57e03-1c3d-4989-945b-1698795b7510"
      },
      "source": [
        "train_data = datagen.flow_from_directory(\n",
        "    train_path,\n",
        "    target_size = (300, 300),\n",
        "    color_mode = 'rgb',\n",
        "    batch_size = 32,\n",
        "    shuffle = True,\n",
        "    seed = 865\n",
        ")"
      ],
      "execution_count": 15,
      "outputs": [
        {
          "output_type": "stream",
          "text": [
            "Found 35215 images belonging to 250 classes.\n"
          ],
          "name": "stdout"
        }
      ]
    },
    {
      "cell_type": "code",
      "metadata": {
        "colab": {
          "base_uri": "https://localhost:8080/"
        },
        "id": "G62YWQHClJDU",
        "outputId": "4529fe80-6b47-48d2-e19b-4f15c552c4e8"
      },
      "source": [
        "test_data = datagen.flow_from_directory(\n",
        "    test_path,\n",
        "    target_size = (300, 300),\n",
        "    color_mode = 'rgb',\n",
        "    batch_size = 32,\n",
        "    shuffle = True,\n",
        "    seed = 865\n",
        ")"
      ],
      "execution_count": 16,
      "outputs": [
        {
          "output_type": "stream",
          "text": [
            "Found 1250 images belonging to 250 classes.\n"
          ],
          "name": "stdout"
        }
      ]
    },
    {
      "cell_type": "code",
      "metadata": {
        "id": "YT-UCKKilLB7"
      },
      "source": [
        "resnet = tf.keras.applications.ResNet152V2( \n",
        "    include_top = False,\n",
        "    weights = 'imagenet',\n",
        "    input_shape = (300, 300, 3)\n",
        ")"
      ],
      "execution_count": 17,
      "outputs": []
    },
    {
      "cell_type": "code",
      "metadata": {
        "id": "Uqwvg-CJlREU"
      },
      "source": [
        "resnet.trainable = False\n",
        "resnet.summary()"
      ],
      "execution_count": null,
      "outputs": []
    },
    {
      "cell_type": "code",
      "metadata": {
        "id": "-ZSgKW24lpsx"
      },
      "source": [
        "model = tf.keras.Sequential()"
      ],
      "execution_count": 20,
      "outputs": []
    },
    {
      "cell_type": "code",
      "metadata": {
        "id": "IqG-KjhFlsDU"
      },
      "source": [
        "model.add(resnet)\n",
        "model.add(tf.keras.layers.GlobalAveragePooling2D())\n",
        "model.add(tf.keras.layers.Dropout(0.4))\n",
        "model.add(tf.keras.layers.Dense(2048, activation='relu'))\n",
        "model.add(tf.keras.layers.Dense(256, activation = 'relu'))\n",
        "model.add(tf.keras.layers.Dropout(0.33))\n",
        "model.add(tf.keras.layers.Dense(1024, activation='relu'))\n",
        "model.add(tf.keras.layers.BatchNormalization())\n",
        "model.add(tf.keras.layers.Dense(512, activation='relu'))\n",
        "model.add(tf.keras.layers.Dense(250, activation='softmax'))"
      ],
      "execution_count": 21,
      "outputs": []
    },
    {
      "cell_type": "code",
      "metadata": {
        "id": "VpAk7Z5ImAYF"
      },
      "source": [
        "model.summary()"
      ],
      "execution_count": null,
      "outputs": []
    },
    {
      "cell_type": "code",
      "metadata": {
        "id": "3xU0th-dmDwX"
      },
      "source": [
        "model.compile(optimizer='adam', loss = 'categorical_crossentropy', metrics = ['accuracy'])"
      ],
      "execution_count": 24,
      "outputs": []
    },
    {
      "cell_type": "code",
      "metadata": {
        "colab": {
          "base_uri": "https://localhost:8080/"
        },
        "id": "loRaQtiRmF1D",
        "outputId": "fb86ea65-4c22-4846-e7df-7982a330237b"
      },
      "source": [
        "history = model.fit(train_data, validation_data=test_data, epochs = 50)"
      ],
      "execution_count": 26,
      "outputs": [
        {
          "output_type": "stream",
          "text": [
            "Epoch 1/50\n",
            "1101/1101 [==============================] - 260s 236ms/step - loss: 2.9853 - accuracy: 0.3070 - val_loss: 1.2140 - val_accuracy: 0.6456\n",
            "Epoch 2/50\n",
            "1101/1101 [==============================] - 256s 233ms/step - loss: 1.7659 - accuracy: 0.5277 - val_loss: 0.8516 - val_accuracy: 0.7280\n",
            "Epoch 3/50\n",
            "1101/1101 [==============================] - 257s 233ms/step - loss: 1.4603 - accuracy: 0.6010 - val_loss: 0.7016 - val_accuracy: 0.7968\n",
            "Epoch 4/50\n",
            "1101/1101 [==============================] - 256s 233ms/step - loss: 1.2805 - accuracy: 0.6476 - val_loss: 0.5795 - val_accuracy: 0.8240\n",
            "Epoch 5/50\n",
            "1101/1101 [==============================] - 256s 233ms/step - loss: 1.1518 - accuracy: 0.6818 - val_loss: 0.4705 - val_accuracy: 0.8552\n",
            "Epoch 6/50\n",
            "1101/1101 [==============================] - 256s 233ms/step - loss: 1.0639 - accuracy: 0.7049 - val_loss: 0.4826 - val_accuracy: 0.8520\n",
            "Epoch 7/50\n",
            "1101/1101 [==============================] - 256s 233ms/step - loss: 1.0095 - accuracy: 0.7198 - val_loss: 0.4154 - val_accuracy: 0.8744\n",
            "Epoch 8/50\n",
            "1101/1101 [==============================] - 256s 233ms/step - loss: 0.9447 - accuracy: 0.7398 - val_loss: 0.3457 - val_accuracy: 0.8960\n",
            "Epoch 9/50\n",
            "1101/1101 [==============================] - 256s 233ms/step - loss: 0.8837 - accuracy: 0.7527 - val_loss: 0.3549 - val_accuracy: 0.8880\n",
            "Epoch 10/50\n",
            "1101/1101 [==============================] - 256s 233ms/step - loss: 0.8358 - accuracy: 0.7669 - val_loss: 0.3313 - val_accuracy: 0.8976\n",
            "Epoch 11/50\n",
            "1101/1101 [==============================] - 256s 233ms/step - loss: 0.7996 - accuracy: 0.7757 - val_loss: 0.3460 - val_accuracy: 0.9008\n",
            "Epoch 12/50\n",
            "1101/1101 [==============================] - 256s 233ms/step - loss: 0.7646 - accuracy: 0.7836 - val_loss: 0.2977 - val_accuracy: 0.9112\n",
            "Epoch 13/50\n",
            "1101/1101 [==============================] - 256s 233ms/step - loss: 0.7286 - accuracy: 0.7928 - val_loss: 0.2839 - val_accuracy: 0.9128\n",
            "Epoch 14/50\n",
            "1101/1101 [==============================] - 256s 233ms/step - loss: 0.6910 - accuracy: 0.8019 - val_loss: 0.2703 - val_accuracy: 0.9144\n",
            "Epoch 15/50\n",
            "1101/1101 [==============================] - 256s 232ms/step - loss: 0.6655 - accuracy: 0.8115 - val_loss: 0.2843 - val_accuracy: 0.9128\n",
            "Epoch 16/50\n",
            "1101/1101 [==============================] - 256s 232ms/step - loss: 0.6399 - accuracy: 0.8182 - val_loss: 0.2537 - val_accuracy: 0.9248\n",
            "Epoch 17/50\n",
            "1101/1101 [==============================] - 256s 233ms/step - loss: 0.6278 - accuracy: 0.8224 - val_loss: 0.2555 - val_accuracy: 0.9304\n",
            "Epoch 18/50\n",
            "1101/1101 [==============================] - 256s 232ms/step - loss: 0.5977 - accuracy: 0.8303 - val_loss: 0.2438 - val_accuracy: 0.9232\n",
            "Epoch 19/50\n",
            "1101/1101 [==============================] - 256s 233ms/step - loss: 0.5788 - accuracy: 0.8353 - val_loss: 0.2283 - val_accuracy: 0.9280\n",
            "Epoch 20/50\n",
            "1101/1101 [==============================] - 256s 233ms/step - loss: 0.5568 - accuracy: 0.8436 - val_loss: 0.2570 - val_accuracy: 0.9296\n",
            "Epoch 21/50\n",
            "1101/1101 [==============================] - 256s 233ms/step - loss: 0.5297 - accuracy: 0.8476 - val_loss: 0.2228 - val_accuracy: 0.9368\n",
            "Epoch 22/50\n",
            "1101/1101 [==============================] - 256s 233ms/step - loss: 0.5293 - accuracy: 0.8469 - val_loss: 0.2147 - val_accuracy: 0.9344\n",
            "Epoch 23/50\n",
            "1101/1101 [==============================] - 256s 233ms/step - loss: 0.5093 - accuracy: 0.8549 - val_loss: 0.1855 - val_accuracy: 0.9424\n",
            "Epoch 24/50\n",
            "1101/1101 [==============================] - 256s 233ms/step - loss: 0.4862 - accuracy: 0.8603 - val_loss: 0.2251 - val_accuracy: 0.9352\n",
            "Epoch 25/50\n",
            "1101/1101 [==============================] - 256s 233ms/step - loss: 0.4840 - accuracy: 0.8613 - val_loss: 0.2087 - val_accuracy: 0.9416\n",
            "Epoch 26/50\n",
            "1101/1101 [==============================] - 256s 233ms/step - loss: 0.4663 - accuracy: 0.8660 - val_loss: 0.2061 - val_accuracy: 0.9368\n",
            "Epoch 27/50\n",
            "1101/1101 [==============================] - 256s 233ms/step - loss: 0.4464 - accuracy: 0.8714 - val_loss: 0.1921 - val_accuracy: 0.9408\n",
            "Epoch 28/50\n",
            "1101/1101 [==============================] - 256s 233ms/step - loss: 0.4390 - accuracy: 0.8740 - val_loss: 0.1861 - val_accuracy: 0.9432\n",
            "Epoch 29/50\n",
            "1101/1101 [==============================] - 256s 232ms/step - loss: 0.4308 - accuracy: 0.8756 - val_loss: 0.1870 - val_accuracy: 0.9488\n",
            "Epoch 30/50\n",
            "1101/1101 [==============================] - 256s 233ms/step - loss: 0.4148 - accuracy: 0.8816 - val_loss: 0.2146 - val_accuracy: 0.9400\n",
            "Epoch 31/50\n",
            "1101/1101 [==============================] - 256s 233ms/step - loss: 0.4071 - accuracy: 0.8803 - val_loss: 0.2153 - val_accuracy: 0.9432\n",
            "Epoch 32/50\n",
            "1101/1101 [==============================] - 256s 233ms/step - loss: 0.4002 - accuracy: 0.8833 - val_loss: 0.1983 - val_accuracy: 0.9416\n",
            "Epoch 33/50\n",
            "1101/1101 [==============================] - 256s 232ms/step - loss: 0.3843 - accuracy: 0.8857 - val_loss: 0.1627 - val_accuracy: 0.9568\n",
            "Epoch 34/50\n",
            "1101/1101 [==============================] - 256s 233ms/step - loss: 0.3824 - accuracy: 0.8895 - val_loss: 0.2122 - val_accuracy: 0.9360\n",
            "Epoch 35/50\n",
            "1101/1101 [==============================] - 256s 233ms/step - loss: 0.3734 - accuracy: 0.8932 - val_loss: 0.1621 - val_accuracy: 0.9536\n",
            "Epoch 36/50\n",
            "1101/1101 [==============================] - 256s 233ms/step - loss: 0.3616 - accuracy: 0.8944 - val_loss: 0.1800 - val_accuracy: 0.9440\n",
            "Epoch 37/50\n",
            "1101/1101 [==============================] - 256s 233ms/step - loss: 0.3571 - accuracy: 0.8957 - val_loss: 0.1919 - val_accuracy: 0.9432\n",
            "Epoch 38/50\n",
            "1101/1101 [==============================] - 256s 233ms/step - loss: 0.3438 - accuracy: 0.8977 - val_loss: 0.1814 - val_accuracy: 0.9504\n",
            "Epoch 39/50\n",
            "1101/1101 [==============================] - 256s 232ms/step - loss: 0.3390 - accuracy: 0.8999 - val_loss: 0.1912 - val_accuracy: 0.9512\n",
            "Epoch 40/50\n",
            "1101/1101 [==============================] - 256s 232ms/step - loss: 0.3343 - accuracy: 0.9024 - val_loss: 0.1774 - val_accuracy: 0.9520\n",
            "Epoch 41/50\n",
            "1101/1101 [==============================] - 256s 233ms/step - loss: 0.3265 - accuracy: 0.9034 - val_loss: 0.1536 - val_accuracy: 0.9536\n",
            "Epoch 42/50\n",
            "1101/1101 [==============================] - 256s 233ms/step - loss: 0.3165 - accuracy: 0.9074 - val_loss: 0.1928 - val_accuracy: 0.9440\n",
            "Epoch 43/50\n",
            "1101/1101 [==============================] - 256s 233ms/step - loss: 0.3156 - accuracy: 0.9066 - val_loss: 0.2100 - val_accuracy: 0.9400\n",
            "Epoch 44/50\n",
            "1101/1101 [==============================] - 256s 233ms/step - loss: 0.3111 - accuracy: 0.9082 - val_loss: 0.1866 - val_accuracy: 0.9488\n",
            "Epoch 45/50\n",
            "1101/1101 [==============================] - 256s 233ms/step - loss: 0.3010 - accuracy: 0.9105 - val_loss: 0.2126 - val_accuracy: 0.9448\n",
            "Epoch 46/50\n",
            "1101/1101 [==============================] - 256s 233ms/step - loss: 0.3042 - accuracy: 0.9100 - val_loss: 0.1876 - val_accuracy: 0.9480\n",
            "Epoch 47/50\n",
            "1101/1101 [==============================] - 256s 233ms/step - loss: 0.2942 - accuracy: 0.9128 - val_loss: 0.2039 - val_accuracy: 0.9424\n",
            "Epoch 48/50\n",
            "1101/1101 [==============================] - 256s 233ms/step - loss: 0.2925 - accuracy: 0.9145 - val_loss: 0.1448 - val_accuracy: 0.9576\n",
            "Epoch 49/50\n",
            "1101/1101 [==============================] - 256s 233ms/step - loss: 0.2805 - accuracy: 0.9163 - val_loss: 0.1587 - val_accuracy: 0.9544\n",
            "Epoch 50/50\n",
            "1101/1101 [==============================] - 256s 233ms/step - loss: 0.2770 - accuracy: 0.9190 - val_loss: 0.1778 - val_accuracy: 0.9528\n"
          ],
          "name": "stdout"
        }
      ]
    },
    {
      "cell_type": "code",
      "metadata": {
        "colab": {
          "base_uri": "https://localhost:8080/",
          "height": 296
        },
        "id": "jiYKz6MIokAZ",
        "outputId": "34af082e-b964-4c1e-b00b-875cbb7e89b4"
      },
      "source": [
        "plt.plot(history.history['accuracy'], label = 'Accuracy')\n",
        "plt.plot(history.history['val_accuracy'], label = 'Validation Accuracy')\n",
        "plt.xlabel('Epochs')\n",
        "plt.ylabel('Accuracy')\n",
        "plt.legend(loc = \"lower right\")"
      ],
      "execution_count": 27,
      "outputs": [
        {
          "output_type": "execute_result",
          "data": {
            "text/plain": [
              "<matplotlib.legend.Legend at 0x7fb298c85d90>"
            ]
          },
          "metadata": {
            "tags": []
          },
          "execution_count": 27
        },
        {
          "output_type": "display_data",
          "data": {
            "image/png": "[encoded data removed]",
            "text/plain": [
              "<Figure size 432x288 with 1 Axes>"
            ]
          },
          "metadata": {
            "tags": [],
            "needs_background": "light"
          }
        }
      ]
    },
    {
      "cell_type": "code",
      "metadata": {
        "colab": {
          "base_uri": "https://localhost:8080/",
          "height": 296
        },
        "id": "ZkvyGYlNol9W",
        "outputId": "de794bd8-4b55-4fd6-f053-c2cb81ded499"
      },
      "source": [
        "plt.plot(history.history['loss'], label = 'Loss')\n",
        "plt.plot(history.history['val_loss'], label = 'Validation Loss')\n",
        "plt.xlabel('Epochs')\n",
        "plt.ylabel('Loss')\n",
        "plt.legend(loc = \"lower right\")"
      ],
      "execution_count": 28,
      "outputs": [
        {
          "output_type": "execute_result",
          "data": {
            "text/plain": [
              "<matplotlib.legend.Legend at 0x7fb2986767d0>"
            ]
          },
          "metadata": {
            "tags": []
          },
          "execution_count": 28
        },
        {
          "output_type": "display_data",
          "data": {
            "image/png": "[encoded data removed]",
            "text/plain": [
              "<Figure size 432x288 with 1 Axes>"
            ]
          },
          "metadata": {
            "tags": [],
            "needs_background": "light"
          }
        }
      ]
    },
    {
      "cell_type": "code",
      "metadata": {
        "id": "UtrhT3MPon06"
      },
      "source": [
        "model.save('birds3.h5')"
      ],
      "execution_count": 29,
      "outputs": []
    }
  ]
}