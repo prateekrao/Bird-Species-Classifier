{
 "cells": [
  {
   "cell_type": "markdown",
   "metadata": {
    "id": "ao_bChpNLgMV"
   },
   "source": [
    "# **Import Dataset from Kaggle**"
   ]
  },
  {
   "cell_type": "code",
   "execution_count": null,
   "metadata": {
    "id": "rGdbCEgIkU4e"
   },
   "outputs": [],
   "source": [
    "! pip install --upgrade --force-reinstall --no-deps kaggle\n",
    "from google.colab import files\n",
    "files.upload()\n",
    "! mkdir ~/.kaggle\n",
    "! cp kaggle.json ~/.kaggle/\n",
    "! chmod 600 ~/.kaggle/kaggle.json\n",
    "! kaggle datasets list\n",
    "! kaggle datasets download -d gpiosenka/100-bird-species\n",
    "! unzip 100-bird-species.zip -d dataset"
   ]
  },
  {
   "cell_type": "markdown",
   "metadata": {
    "id": "_-pXBrOTLoG0"
   },
   "source": [
    "# **Import required libraries and modules**"
   ]
  },
  {
   "cell_type": "code",
   "execution_count": 45,
   "metadata": {
    "id": "Kq281wH4kjdF"
   },
   "outputs": [],
   "source": [
    "import tensorflow as tf\n",
    "import matplotlib.pyplot as plt\n",
    "from tensorflow import keras\n",
    "from keras.preprocessing.image import ImageDataGenerator\n",
    "from keras import applications\n",
    "from keras.applications import ResNet152V2\n",
    "from keras.layers import Dropout, BatchNormalization, GlobalAveragePooling2D, Dense\n",
    "from keras.optimizers import Adam"
   ]
  },
  {
   "cell_type": "markdown",
   "metadata": {
    "id": "gyt2JqSSOI8S"
   },
   "source": [
    "# **Paths and Data Augmentation**"
   ]
  },
  {
   "cell_type": "code",
   "execution_count": 37,
   "metadata": {
    "id": "1CXtD5H-k3-k"
   },
   "outputs": [],
   "source": [
    "train_path = \"/content/dataset/train\"\n",
    "test_path = \"/content/dataset/test\""
   ]
  },
  {
   "cell_type": "markdown",
   "metadata": {
    "id": "On1_6y5-OR9L"
   },
   "source": [
    "> ImageDataGenerator is used for data augmentation.\n",
    "* Performing horizontal and vertical flip to increase size of dataset"
   ]
  },
  {
   "cell_type": "code",
   "execution_count": 38,
   "metadata": {
    "id": "Ul2Gyb_JlEhE"
   },
   "outputs": [],
   "source": [
    "datagen = ImageDataGenerator(\n",
    "    rescale = 1./255,\n",
    "    horizontal_flip = True,\n",
    "    vertical_flip = True,\n",
    ")"
   ]
  },
  {
   "cell_type": "code",
   "execution_count": 39,
   "metadata": {
    "colab": {
     "base_uri": "https://localhost:8080/"
    },
    "id": "YSJYK7UilG2D",
    "outputId": "51c6f77f-5174-48b4-9ec0-b29f2c29a6ce"
   },
   "outputs": [
    {
     "name": "stdout",
     "output_type": "stream",
     "text": [
      "Found 35215 images belonging to 250 classes.\n"
     ]
    }
   ],
   "source": [
    "train_data = datagen.flow_from_directory(\n",
    "    train_path,\n",
    "    target_size = (224, 224),\n",
    "    color_mode = 'rgb',\n",
    "    batch_size = 32,\n",
    "    shuffle = True,\n",
    "    seed = 123,\n",
    "    class_mode= 'categorical'\n",
    ")"
   ]
  },
  {
   "cell_type": "code",
   "execution_count": 40,
   "metadata": {
    "colab": {
     "base_uri": "https://localhost:8080/"
    },
    "id": "G62YWQHClJDU",
    "outputId": "d27e2f30-6c01-46c2-c3c2-04a675ad2fcb"
   },
   "outputs": [
    {
     "name": "stdout",
     "output_type": "stream",
     "text": [
      "Found 1250 images belonging to 250 classes.\n"
     ]
    }
   ],
   "source": [
    "test_data = datagen.flow_from_directory(\n",
    "    test_path,\n",
    "    target_size = (224,224),\n",
    "    color_mode = 'rgb',\n",
    "    batch_size = 32,\n",
    "    shuffle = True,\n",
    "    seed = 123,\n",
    "    class_mode = 'categorical'\n",
    ")"
   ]
  },
  {
   "cell_type": "markdown",
   "metadata": {
    "id": "FoHqNUD6PEl5"
   },
   "source": [
    "# **Importing and using Pretrained Model**"
   ]
  },
  {
   "cell_type": "markdown",
   "metadata": {
    "id": "jnVATrmqPJ0A"
   },
   "source": [
    "> ResNet152V2\n",
    "\n",
    "* Using pretrained model ResNet 152\n",
    "* Model is pretrained on weights of imagenet\n",
    "* Image input resolution is 224 x 224, colored."
   ]
  },
  {
   "cell_type": "code",
   "execution_count": 41,
   "metadata": {
    "id": "YT-UCKKilLB7"
   },
   "outputs": [],
   "source": [
    "resnet = ResNet152V2( \n",
    "    include_top = False,\n",
    "    weights = 'imagenet',\n",
    "    input_shape = (224, 224, 3)\n",
    ")"
   ]
  },
  {
   "cell_type": "code",
   "execution_count": 15,
   "metadata": {
    "id": "Uqwvg-CJlREU"
   },
   "outputs": [],
   "source": [
    "resnet.trainable = False"
   ]
  },
  {
   "cell_type": "markdown",
   "metadata": {
    "id": "JxG1jjdMPdZx"
   },
   "source": [
    "# **Creating Model for Classification**"
   ]
  },
  {
   "cell_type": "markdown",
   "metadata": {
    "id": "_KEDR2NOPhak"
   },
   "source": [
    "> Sequential Model\n",
    "\n",
    "* Model consists of ResNet for feature extraction.\n",
    "* Dropout layers and BatchNormalization is used to increase accuracy and prevent overfitting\n",
    "* Output layer classifies into 250 distinct classes, as a probability distribution using activation softmax"
   ]
  },
  {
   "cell_type": "code",
   "execution_count": 47,
   "metadata": {
    "id": "-ZSgKW24lpsx"
   },
   "outputs": [],
   "source": [
    "model = tf.keras.Sequential()"
   ]
  },
  {
   "cell_type": "code",
   "execution_count": 48,
   "metadata": {
    "id": "IqG-KjhFlsDU"
   },
   "outputs": [],
   "source": [
    "model.add(resnet)\n",
    "model.add(GlobalAveragePooling2D())\n",
    "model.add(Dropout(0.4))\n",
    "model.add(Dense(2048, activation='relu'))\n",
    "model.add(Dense(256, activation = 'relu'))\n",
    "model.add(Dropout(0.33))\n",
    "model.add(Dense(1024, activation='relu'))\n",
    "model.add(BatchNormalization())\n",
    "model.add(Dense(512, activation='relu'))\n",
    "model.add(Dense(250, activation='softmax'))"
   ]
  },
  {
   "cell_type": "code",
   "execution_count": null,
   "metadata": {
    "id": "VpAk7Z5ImAYF"
   },
   "outputs": [],
   "source": [
    "model.summary()"
   ]
  },
  {
   "cell_type": "markdown",
   "metadata": {
    "id": "vlqjKl9uQGps"
   },
   "source": [
    "# **Compiling and Training the Model**"
   ]
  },
  {
   "cell_type": "markdown",
   "metadata": {
    "id": "RmYslvafQJxY"
   },
   "source": [
    "* Model is compiled with optimizer as Adam, with a modified learning rate of 1e-04, as accuracy wasn't great with default learning rate.\n",
    "* Loss function used is categorical crossentropy\n",
    "* Model is trained for 50 epochs, with validation data being the test dataset."
   ]
  },
  {
   "cell_type": "code",
   "execution_count": 49,
   "metadata": {
    "id": "3xU0th-dmDwX"
   },
   "outputs": [],
   "source": [
    "model.compile(optimizer=Adam(learning_rate=0.0001), loss = 'categorical_crossentropy', metrics = ['accuracy'])"
   ]
  },
  {
   "cell_type": "code",
   "execution_count": 22,
   "metadata": {
    "colab": {
     "base_uri": "https://localhost:8080/"
    },
    "id": "loRaQtiRmF1D",
    "outputId": "a9ea1272-09de-4f9e-8d78-86f0fae72601"
   },
   "outputs": [
    {
     "name": "stdout",
     "output_type": "stream",
     "text": [
      "Epoch 1/50\n",
      "1101/1101 [==============================] - 271s 246ms/step - loss: 1.9296 - accuracy: 0.5029 - val_loss: 0.8227 - val_accuracy: 0.7712\n",
      "Epoch 2/50\n",
      "1101/1101 [==============================] - 271s 246ms/step - loss: 1.6188 - accuracy: 0.5696 - val_loss: 0.6519 - val_accuracy: 0.8136\n",
      "Epoch 3/50\n",
      "1101/1101 [==============================] - 270s 245ms/step - loss: 1.4350 - accuracy: 0.6115 - val_loss: 0.5648 - val_accuracy: 0.8352\n",
      "Epoch 4/50\n",
      "1101/1101 [==============================] - 269s 245ms/step - loss: 1.3124 - accuracy: 0.6398 - val_loss: 0.5370 - val_accuracy: 0.8304\n",
      "Epoch 5/50\n",
      "1101/1101 [==============================] - 270s 246ms/step - loss: 1.2208 - accuracy: 0.6657 - val_loss: 0.4343 - val_accuracy: 0.8720\n",
      "Epoch 6/50\n",
      "1101/1101 [==============================] - 271s 246ms/step - loss: 1.1492 - accuracy: 0.6842 - val_loss: 0.4250 - val_accuracy: 0.8816\n",
      "Epoch 7/50\n",
      "1101/1101 [==============================] - 271s 246ms/step - loss: 1.0983 - accuracy: 0.6956 - val_loss: 0.3726 - val_accuracy: 0.8816\n",
      "Epoch 8/50\n",
      "1101/1101 [==============================] - 270s 245ms/step - loss: 1.0447 - accuracy: 0.7058 - val_loss: 0.3814 - val_accuracy: 0.8816\n",
      "Epoch 9/50\n",
      "1101/1101 [==============================] - 270s 245ms/step - loss: 1.0015 - accuracy: 0.7163 - val_loss: 0.3350 - val_accuracy: 0.8920\n",
      "Epoch 10/50\n",
      "1101/1101 [==============================] - 270s 246ms/step - loss: 0.9554 - accuracy: 0.7301 - val_loss: 0.3285 - val_accuracy: 0.9016\n",
      "Epoch 11/50\n",
      "1101/1101 [==============================] - 269s 244ms/step - loss: 0.9177 - accuracy: 0.7401 - val_loss: 0.2920 - val_accuracy: 0.9128\n",
      "Epoch 12/50\n",
      "1101/1101 [==============================] - 271s 246ms/step - loss: 0.8821 - accuracy: 0.7520 - val_loss: 0.2832 - val_accuracy: 0.9184\n",
      "Epoch 13/50\n",
      "1101/1101 [==============================] - 271s 246ms/step - loss: 0.8606 - accuracy: 0.7542 - val_loss: 0.2700 - val_accuracy: 0.9112\n",
      "Epoch 14/50\n",
      "1101/1101 [==============================] - 271s 246ms/step - loss: 0.8289 - accuracy: 0.7619 - val_loss: 0.2836 - val_accuracy: 0.9088\n",
      "Epoch 15/50\n",
      "1101/1101 [==============================] - 270s 245ms/step - loss: 0.7908 - accuracy: 0.7733 - val_loss: 0.2919 - val_accuracy: 0.9080\n",
      "Epoch 16/50\n",
      "1101/1101 [==============================] - 270s 246ms/step - loss: 0.7698 - accuracy: 0.7748 - val_loss: 0.2808 - val_accuracy: 0.9064\n",
      "Epoch 17/50\n",
      "1101/1101 [==============================] - 271s 246ms/step - loss: 0.7548 - accuracy: 0.7828 - val_loss: 0.2542 - val_accuracy: 0.9168\n",
      "Epoch 18/50\n",
      "1101/1101 [==============================] - 271s 247ms/step - loss: 0.7290 - accuracy: 0.7885 - val_loss: 0.2577 - val_accuracy: 0.9208\n",
      "Epoch 19/50\n",
      "1101/1101 [==============================] - 270s 245ms/step - loss: 0.7118 - accuracy: 0.7934 - val_loss: 0.2561 - val_accuracy: 0.9208\n",
      "Epoch 20/50\n",
      "1101/1101 [==============================] - 270s 246ms/step - loss: 0.6905 - accuracy: 0.7968 - val_loss: 0.2555 - val_accuracy: 0.9120\n",
      "Epoch 21/50\n",
      "1101/1101 [==============================] - 270s 245ms/step - loss: 0.6756 - accuracy: 0.8018 - val_loss: 0.2316 - val_accuracy: 0.9312\n",
      "Epoch 22/50\n",
      "1101/1101 [==============================] - 271s 246ms/step - loss: 0.6476 - accuracy: 0.8077 - val_loss: 0.2248 - val_accuracy: 0.9304\n",
      "Epoch 23/50\n",
      "1101/1101 [==============================] - 270s 245ms/step - loss: 0.6307 - accuracy: 0.8153 - val_loss: 0.2411 - val_accuracy: 0.9232\n",
      "Epoch 24/50\n",
      "1101/1101 [==============================] - 271s 246ms/step - loss: 0.6158 - accuracy: 0.8181 - val_loss: 0.2344 - val_accuracy: 0.9264\n",
      "Epoch 25/50\n",
      "1101/1101 [==============================] - 271s 246ms/step - loss: 0.6075 - accuracy: 0.8220 - val_loss: 0.1905 - val_accuracy: 0.9472\n",
      "Epoch 26/50\n",
      "1101/1101 [==============================] - 270s 245ms/step - loss: 0.5879 - accuracy: 0.8253 - val_loss: 0.2428 - val_accuracy: 0.9248\n",
      "Epoch 27/50\n",
      "1101/1101 [==============================] - 271s 246ms/step - loss: 0.5713 - accuracy: 0.8301 - val_loss: 0.2012 - val_accuracy: 0.9368\n",
      "Epoch 28/50\n",
      "1101/1101 [==============================] - 271s 246ms/step - loss: 0.5589 - accuracy: 0.8330 - val_loss: 0.2167 - val_accuracy: 0.9328\n",
      "Epoch 29/50\n",
      "1101/1101 [==============================] - 271s 246ms/step - loss: 0.5480 - accuracy: 0.8346 - val_loss: 0.2228 - val_accuracy: 0.9304\n",
      "Epoch 30/50\n",
      "1101/1101 [==============================] - 271s 247ms/step - loss: 0.5380 - accuracy: 0.8400 - val_loss: 0.1746 - val_accuracy: 0.9448\n",
      "Epoch 31/50\n",
      "1101/1101 [==============================] - 270s 246ms/step - loss: 0.5355 - accuracy: 0.8387 - val_loss: 0.2276 - val_accuracy: 0.9280\n",
      "Epoch 32/50\n",
      "1101/1101 [==============================] - 271s 246ms/step - loss: 0.5152 - accuracy: 0.8466 - val_loss: 0.2026 - val_accuracy: 0.9376\n",
      "Epoch 33/50\n",
      "1101/1101 [==============================] - 271s 246ms/step - loss: 0.5025 - accuracy: 0.8481 - val_loss: 0.1816 - val_accuracy: 0.9480\n",
      "Epoch 34/50\n",
      "1101/1101 [==============================] - 271s 246ms/step - loss: 0.4958 - accuracy: 0.8491 - val_loss: 0.1742 - val_accuracy: 0.9504\n",
      "Epoch 35/50\n",
      "1101/1101 [==============================] - 269s 245ms/step - loss: 0.4810 - accuracy: 0.8535 - val_loss: 0.1741 - val_accuracy: 0.9496\n",
      "Epoch 36/50\n",
      "1101/1101 [==============================] - 270s 245ms/step - loss: 0.4687 - accuracy: 0.8579 - val_loss: 0.1809 - val_accuracy: 0.9384\n",
      "Epoch 37/50\n",
      "1101/1101 [==============================] - 270s 246ms/step - loss: 0.4629 - accuracy: 0.8589 - val_loss: 0.1982 - val_accuracy: 0.9424\n",
      "Epoch 38/50\n",
      "1101/1101 [==============================] - 270s 246ms/step - loss: 0.4600 - accuracy: 0.8605 - val_loss: 0.1989 - val_accuracy: 0.9328\n",
      "Epoch 39/50\n",
      "1101/1101 [==============================] - 270s 245ms/step - loss: 0.4496 - accuracy: 0.8634 - val_loss: 0.2187 - val_accuracy: 0.9256\n",
      "Epoch 40/50\n",
      "1101/1101 [==============================] - 270s 245ms/step - loss: 0.4341 - accuracy: 0.8652 - val_loss: 0.2086 - val_accuracy: 0.9336\n",
      "Epoch 41/50\n",
      "1101/1101 [==============================] - 269s 245ms/step - loss: 0.4323 - accuracy: 0.8692 - val_loss: 0.1897 - val_accuracy: 0.9384\n",
      "Epoch 42/50\n",
      "1101/1101 [==============================] - 271s 246ms/step - loss: 0.4268 - accuracy: 0.8684 - val_loss: 0.1840 - val_accuracy: 0.9360\n",
      "Epoch 43/50\n",
      "1101/1101 [==============================] - 270s 246ms/step - loss: 0.4088 - accuracy: 0.8742 - val_loss: 0.1723 - val_accuracy: 0.9440\n",
      "Epoch 44/50\n",
      "1101/1101 [==============================] - 271s 246ms/step - loss: 0.4155 - accuracy: 0.8731 - val_loss: 0.1843 - val_accuracy: 0.9400\n",
      "Epoch 45/50\n",
      "1101/1101 [==============================] - 270s 245ms/step - loss: 0.3940 - accuracy: 0.8760 - val_loss: 0.1914 - val_accuracy: 0.9384\n",
      "Epoch 46/50\n",
      "1101/1101 [==============================] - 271s 246ms/step - loss: 0.3928 - accuracy: 0.8784 - val_loss: 0.1885 - val_accuracy: 0.9456\n",
      "Epoch 47/50\n",
      "1101/1101 [==============================] - 272s 247ms/step - loss: 0.3829 - accuracy: 0.8817 - val_loss: 0.1852 - val_accuracy: 0.9464\n",
      "Epoch 48/50\n",
      "1101/1101 [==============================] - 270s 246ms/step - loss: 0.3888 - accuracy: 0.8801 - val_loss: 0.1784 - val_accuracy: 0.9448\n",
      "Epoch 49/50\n",
      "1101/1101 [==============================] - 270s 246ms/step - loss: 0.3716 - accuracy: 0.8851 - val_loss: 0.1856 - val_accuracy: 0.9488\n",
      "Epoch 50/50\n",
      "1101/1101 [==============================] - 271s 246ms/step - loss: 0.3664 - accuracy: 0.8876 - val_loss: 0.2068 - val_accuracy: 0.9448\n"
     ]
    }
   ],
   "source": [
    "history = model.fit(train_data, validation_data=test_data, epochs = 50)"
   ]
  },
  {
   "cell_type": "markdown",
   "metadata": {
    "id": "RU9GNUbeQh_6"
   },
   "source": [
    "# **Plotting Graphs**"
   ]
  },
  {
   "cell_type": "markdown",
   "metadata": {
    "id": "A9t6948DQmoO"
   },
   "source": [
    "> **Using Matplotlib Library**\n",
    "* Graph is plotted for ``` Epoch vs Accuracy ```, for training accuracy and validation accuracy.\n",
    "* Graph is plotted for ``` Epoch vs Losses ```, for training loss and validation loss."
   ]
  },
  {
   "cell_type": "code",
   "execution_count": 23,
   "metadata": {
    "colab": {
     "base_uri": "https://localhost:8080/",
     "height": 296
    },
    "id": "jiYKz6MIokAZ",
    "outputId": "1e20f09f-bd5c-439f-af07-5258801d8d50"
   },
   "outputs": [
    {
     "data": {
      "text/plain": [
       "<matplotlib.legend.Legend at 0x7f15d0268a10>"
      ]
     },
     "execution_count": 23,
     "metadata": {
      "tags": []
     },
     "output_type": "execute_result"
    },
    {
     "data": {
      "image/png": "[encoded data removed]",
      "text/plain": [
       "<Figure size 432x288 with 1 Axes>"
      ]
     },
     "metadata": {
      "needs_background": "light",
      "tags": []
     },
     "output_type": "display_data"
    }
   ],
   "source": [
    "plt.plot(history.history['accuracy'], label = 'Accuracy')\n",
    "plt.plot(history.history['val_accuracy'], label = 'Validation Accuracy')\n",
    "plt.xlabel('Epochs')\n",
    "plt.ylabel('Accuracy')\n",
    "plt.legend(loc = \"lower right\")"
   ]
  },
  {
   "cell_type": "code",
   "execution_count": 50,
   "metadata": {
    "colab": {
     "base_uri": "https://localhost:8080/",
     "height": 298
    },
    "id": "ZkvyGYlNol9W",
    "outputId": "7751339b-c56d-4b07-a0fd-5b8b96edc335"
   },
   "outputs": [
    {
     "data": {
      "text/plain": [
       "<matplotlib.legend.Legend at 0x7f1523ed3050>"
      ]
     },
     "execution_count": 50,
     "metadata": {
      "tags": []
     },
     "output_type": "execute_result"
    },
    {
     "data": {
      "image/png": "[encoded data removed]",
      "text/plain": [
       "<Figure size 432x288 with 1 Axes>"
      ]
     },
     "metadata": {
      "needs_background": "light",
      "tags": []
     },
     "output_type": "display_data"
    }
   ],
   "source": [
    "plt.plot(history.history['loss'], label = 'Loss')\n",
    "plt.plot(history.history['val_loss'], label = 'Validation Loss')\n",
    "plt.xlabel('Epochs')\n",
    "plt.ylabel('Loss')\n",
    "plt.legend(loc = \"upper right\")"
   ]
  },
  {
   "cell_type": "markdown",
   "metadata": {
    "id": "V7wCpZA3RH7N"
   },
   "source": [
    "# **Saving the model as HDF5 File**"
   ]
  },
  {
   "cell_type": "code",
   "execution_count": 51,
   "metadata": {
    "id": "ORBqQA3SwsLZ"
   },
   "outputs": [],
   "source": [
    "model.save('birds.h5')"
   ]
  }
 ],
 "metadata": {
  "accelerator": "GPU",
  "colab": {
   "collapsed_sections": [],
   "name": "Bird-Classification.ipynb",
   "provenance": []
  },
  "kernelspec": {
   "display_name": "Python 3",
   "language": "python",
   "name": "python3"
  },
  "language_info": {
   "codemirror_mode": {
    "name": "ipython",
    "version": 3
   },
   "file_extension": ".py",
   "mimetype": "text/x-python",
   "name": "python",
   "nbconvert_exporter": "python",
   "pygments_lexer": "ipython3",
   "version": "3.8.5"
  }
 },
 "nbformat": 4,
 "nbformat_minor": 1
}
