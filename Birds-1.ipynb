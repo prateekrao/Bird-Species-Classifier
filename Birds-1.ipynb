{
  "nbformat": 4,
  "nbformat_minor": 0,
  "metadata": {
    "colab": {
      "name": "Copy of Birds.ipynb",
      "provenance": [],
      "authorship_tag": "ABX9TyOj3KmILgOOf96I2xH8g+2n",
      "include_colab_link": true
    },
    "kernelspec": {
      "name": "python3",
      "display_name": "Python 3"
    },
    "accelerator": "GPU"
  },
  "cells": [
    {
      "cell_type": "markdown",
      "metadata": {
        "id": "view-in-github",
        "colab_type": "text"
      },
      "source": [
        "<a href=\"https://colab.research.google.com/github/r-prateek/Bird-Species-Classifier/blob/main/Birds-1.ipynb\" target=\"_parent\"><img src=\"https://colab.research.google.com/assets/colab-badge.svg\" alt=\"Open In Colab\"/></a>"
      ]
    },
    {
      "cell_type": "code",
      "metadata": {
        "id": "rGdbCEgIkU4e"
      },
      "source": [
        "! pip install --upgrade --force-reinstall --no-deps kaggle\n",
        "from google.colab import files\n",
        "files.upload()\n",
        "! mkdir ~/.kaggle\n",
        "! cp kaggle.json ~/.kaggle/\n",
        "! chmod 600 ~/.kaggle/kaggle.json\n",
        "! kaggle datasets list\n",
        "! kaggle datasets download -d gpiosenka/100-bird-species\n",
        "! unzip 100-bird-species.zip -d dataset"
      ],
      "execution_count": null,
      "outputs": []
    },
    {
      "cell_type": "code",
      "metadata": {
        "id": "Kq281wH4kjdF"
      },
      "source": [
        "import tensorflow as tf\n",
        "import matplotlib.pyplot as plt\n"
      ],
      "execution_count": null,
      "outputs": []
    },
    {
      "cell_type": "code",
      "metadata": {
        "id": "1CXtD5H-k3-k"
      },
      "source": [
        "train_path = \"/content/dataset/train\"\n",
        "test_path = \"/content/dataset/test\""
      ],
      "execution_count": null,
      "outputs": []
    },
    {
      "cell_type": "code",
      "metadata": {
        "id": "Ul2Gyb_JlEhE"
      },
      "source": [
        "datagen = tf.keras.preprocessing.image.ImageDataGenerator(\n",
        "    rescale = 1./255,\n",
        "    rotation_range = 5,\n",
        "    #zoom_range = 0.1,\n",
        "    horizontal_flip = True,\n",
        "    vertical_flip = True,\n",
        "    #brightness_range = (3,8)\n",
        ")"
      ],
      "execution_count": null,
      "outputs": []
    },
    {
      "cell_type": "code",
      "metadata": {
        "colab": {
          "base_uri": "https://localhost:8080/"
        },
        "id": "YSJYK7UilG2D",
        "outputId": "b1db5f89-3797-4545-d665-f191ed139faf"
      },
      "source": [
        "train_data = datagen.flow_from_directory(\n",
        "    train_path,\n",
        "    target_size = (224, 224),\n",
        "    color_mode = 'rgb',\n",
        "    batch_size = 32,\n",
        "    shuffle = True,\n",
        "    seed = 865\n",
        ")"
      ],
      "execution_count": null,
      "outputs": [
        {
          "output_type": "stream",
          "text": [
            "Found 35215 images belonging to 250 classes.\n"
          ],
          "name": "stdout"
        }
      ]
    },
    {
      "cell_type": "code",
      "metadata": {
        "colab": {
          "base_uri": "https://localhost:8080/"
        },
        "id": "G62YWQHClJDU",
        "outputId": "e5a3e5ff-4148-4ceb-eab6-e4e974be8816"
      },
      "source": [
        "test_data = datagen.flow_from_directory(\n",
        "    test_path,\n",
        "    target_size = (224, 224),\n",
        "    color_mode = 'rgb',\n",
        "    batch_size = 32,\n",
        "    shuffle = True,\n",
        "    seed = 865\n",
        ")"
      ],
      "execution_count": null,
      "outputs": [
        {
          "output_type": "stream",
          "text": [
            "Found 1250 images belonging to 250 classes.\n"
          ],
          "name": "stdout"
        }
      ]
    },
    {
      "cell_type": "code",
      "metadata": {
        "id": "YT-UCKKilLB7"
      },
      "source": [
        "inception = tf.keras.applications.InceptionResNetV2( \n",
        "    include_top = False,\n",
        "    weights = 'imagenet',\n",
        "    input_shape = (224, 224, 3)\n",
        ")"
      ],
      "execution_count": null,
      "outputs": []
    },
    {
      "cell_type": "code",
      "metadata": {
        "id": "Uqwvg-CJlREU"
      },
      "source": [
        "inception.trainable = False\n",
        "inception.summary()"
      ],
      "execution_count": null,
      "outputs": []
    },
    {
      "cell_type": "code",
      "metadata": {
        "id": "-ZSgKW24lpsx"
      },
      "source": [
        "model = tf.keras.Sequential()"
      ],
      "execution_count": null,
      "outputs": []
    },
    {
      "cell_type": "code",
      "metadata": {
        "id": "IqG-KjhFlsDU"
      },
      "source": [
        "model.add(inception)\n",
        "model.add(tf.keras.layers.GlobalAveragePooling2D())\n",
        "model.add(tf.keras.layers.Dense(1024, activation='relu'))\n",
        "model.add(tf.keras.layers.Dropout(0.25))\n",
        "model.add(tf.keras.layers.Dense(1024, activation='relu'))\n",
        "model.add(tf.keras.layers.Dense(512, activation='relu'))\n",
        "model.add(tf.keras.layers.Dense(250, activation='softmax'))"
      ],
      "execution_count": null,
      "outputs": []
    },
    {
      "cell_type": "code",
      "metadata": {
        "id": "VpAk7Z5ImAYF"
      },
      "source": [
        "model.summary()"
      ],
      "execution_count": null,
      "outputs": []
    },
    {
      "cell_type": "code",
      "metadata": {
        "id": "3xU0th-dmDwX"
      },
      "source": [
        "model.compile(optimizer='adam', loss = 'categorical_crossentropy', metrics = ['accuracy'])"
      ],
      "execution_count": null,
      "outputs": []
    },
    {
      "cell_type": "code",
      "metadata": {
        "colab": {
          "base_uri": "https://localhost:8080/"
        },
        "id": "loRaQtiRmF1D",
        "outputId": "56a9a8e2-fac3-4ce5-d818-aae736e4bff8"
      },
      "source": [
        "history = model.fit(train_data, validation_data=test_data, epochs = 25)"
      ],
      "execution_count": null,
      "outputs": [
        {
          "output_type": "stream",
          "text": [
            "Epoch 1/25\n",
            "1101/1101 [==============================] - 445s 370ms/step - loss: 3.6521 - accuracy: 0.2112 - val_loss: 1.6341 - val_accuracy: 0.5304\n",
            "Epoch 2/25\n",
            "1101/1101 [==============================] - 404s 367ms/step - loss: 1.9458 - accuracy: 0.4776 - val_loss: 1.2446 - val_accuracy: 0.6336\n",
            "Epoch 3/25\n",
            "1101/1101 [==============================] - 406s 368ms/step - loss: 1.6609 - accuracy: 0.5487 - val_loss: 1.1194 - val_accuracy: 0.6672\n",
            "Epoch 4/25\n",
            "1101/1101 [==============================] - 407s 370ms/step - loss: 1.5137 - accuracy: 0.5820 - val_loss: 1.0287 - val_accuracy: 0.7128\n",
            "Epoch 5/25\n",
            "1101/1101 [==============================] - 407s 369ms/step - loss: 1.4117 - accuracy: 0.6098 - val_loss: 0.9116 - val_accuracy: 0.7336\n",
            "Epoch 6/25\n",
            "1101/1101 [==============================] - 403s 366ms/step - loss: 1.3261 - accuracy: 0.6313 - val_loss: 0.8503 - val_accuracy: 0.7568\n",
            "Epoch 7/25\n",
            "1101/1101 [==============================] - 402s 365ms/step - loss: 1.2589 - accuracy: 0.6487 - val_loss: 0.8232 - val_accuracy: 0.7528\n",
            "Epoch 8/25\n",
            "1101/1101 [==============================] - 404s 366ms/step - loss: 1.2347 - accuracy: 0.6498 - val_loss: 0.8238 - val_accuracy: 0.7640\n",
            "Epoch 9/25\n",
            "1101/1101 [==============================] - 406s 368ms/step - loss: 1.1835 - accuracy: 0.6672 - val_loss: 0.8134 - val_accuracy: 0.7720\n",
            "Epoch 10/25\n",
            "1101/1101 [==============================] - 404s 367ms/step - loss: 1.1810 - accuracy: 0.6681 - val_loss: 0.7396 - val_accuracy: 0.7768\n",
            "Epoch 11/25\n",
            "1101/1101 [==============================] - 402s 365ms/step - loss: 1.1241 - accuracy: 0.6821 - val_loss: 0.7433 - val_accuracy: 0.7800\n",
            "Epoch 12/25\n",
            "1101/1101 [==============================] - 401s 364ms/step - loss: 1.1170 - accuracy: 0.6843 - val_loss: 0.7658 - val_accuracy: 0.7568\n",
            "Epoch 13/25\n",
            "1101/1101 [==============================] - 400s 364ms/step - loss: 1.1251 - accuracy: 0.6846 - val_loss: 0.7342 - val_accuracy: 0.7944\n",
            "Epoch 14/25\n",
            "1101/1101 [==============================] - 400s 363ms/step - loss: 1.1142 - accuracy: 0.6880 - val_loss: 0.7417 - val_accuracy: 0.7752\n",
            "Epoch 15/25\n",
            "1101/1101 [==============================] - 400s 364ms/step - loss: 1.0882 - accuracy: 0.6971 - val_loss: 0.7270 - val_accuracy: 0.7920\n",
            "Epoch 16/25\n",
            "1101/1101 [==============================] - 401s 364ms/step - loss: 1.0809 - accuracy: 0.6999 - val_loss: 0.6854 - val_accuracy: 0.8040\n",
            "Epoch 17/25\n",
            "1101/1101 [==============================] - 400s 363ms/step - loss: 1.0515 - accuracy: 0.7051 - val_loss: 0.6296 - val_accuracy: 0.8120\n",
            "Epoch 18/25\n",
            "1101/1101 [==============================] - 400s 364ms/step - loss: 1.0712 - accuracy: 0.7041 - val_loss: 0.7239 - val_accuracy: 0.7936\n",
            "Epoch 19/25\n",
            "1101/1101 [==============================] - 400s 364ms/step - loss: 1.0392 - accuracy: 0.7099 - val_loss: 0.6936 - val_accuracy: 0.8088\n",
            "Epoch 20/25\n",
            "1101/1101 [==============================] - 402s 365ms/step - loss: 1.0348 - accuracy: 0.7112 - val_loss: 0.6329 - val_accuracy: 0.8064\n",
            "Epoch 21/25\n",
            "1101/1101 [==============================] - 401s 364ms/step - loss: 1.0382 - accuracy: 0.7110 - val_loss: 0.6769 - val_accuracy: 0.8032\n",
            "Epoch 22/25\n",
            "1101/1101 [==============================] - 401s 364ms/step - loss: 1.0505 - accuracy: 0.7068 - val_loss: 0.6249 - val_accuracy: 0.8096\n",
            "Epoch 23/25\n",
            "1101/1101 [==============================] - 400s 363ms/step - loss: 1.0123 - accuracy: 0.7185 - val_loss: 0.6370 - val_accuracy: 0.8168\n",
            "Epoch 24/25\n",
            "1101/1101 [==============================] - 400s 363ms/step - loss: 1.0109 - accuracy: 0.7213 - val_loss: 0.7161 - val_accuracy: 0.8000\n",
            "Epoch 25/25\n",
            "1101/1101 [==============================] - 400s 364ms/step - loss: 1.0267 - accuracy: 0.7170 - val_loss: 0.6658 - val_accuracy: 0.8152\n"
          ],
          "name": "stdout"
        }
      ]
    },
    {
      "cell_type": "code",
      "metadata": {
        "colab": {
          "base_uri": "https://localhost:8080/",
          "height": 296
        },
        "id": "jiYKz6MIokAZ",
        "outputId": "8232e10e-8128-4a4d-ed52-f674fe5294a0"
      },
      "source": [
        "plt.plot(history.history['accuracy'], label = 'Accuracy')\n",
        "plt.plot(history.history['val_accuracy'], label = 'Validation Accuracy')\n",
        "plt.xlabel('Epochs')\n",
        "plt.ylabel('Accuracy')\n",
        "plt.legend(loc = \"lower right\")"
      ],
      "execution_count": null,
      "outputs": [
        {
          "output_type": "execute_result",
          "data": {
            "text/plain": [
              "<matplotlib.legend.Legend at 0x7ff4a0f5ebd0>"
            ]
          },
          "metadata": {
            "tags": []
          },
          "execution_count": 22
        },
        {
          "output_type": "display_data",
          "data": {
            "image/png": "[encoded data removed]",
            "text/plain": [
              "<Figure size 432x288 with 1 Axes>"
            ]
          },
          "metadata": {
            "tags": [],
            "needs_background": "light"
          }
        }
      ]
    },
    {
      "cell_type": "code",
      "metadata": {
        "colab": {
          "base_uri": "https://localhost:8080/",
          "height": 296
        },
        "id": "ZkvyGYlNol9W",
        "outputId": "8c1bdbc0-adde-48ea-a09d-6db3deb2d68e"
      },
      "source": [
        "plt.plot(history.history['loss'], label = 'Loss')\n",
        "plt.plot(history.history['val_loss'], label = 'Validation Loss')\n",
        "plt.xlabel('Epochs')\n",
        "plt.ylabel('Loss')\n",
        "plt.legend(loc = \"lower right\")"
      ],
      "execution_count": null,
      "outputs": [
        {
          "output_type": "execute_result",
          "data": {
            "text/plain": [
              "<matplotlib.legend.Legend at 0x7ff4a193c210>"
            ]
          },
          "metadata": {
            "tags": []
          },
          "execution_count": 23
        },
        {
          "output_type": "display_data",
          "data": {
            "image/png": "[encoded data removed]",
            "text/plain": [
              "<Figure size 432x288 with 1 Axes>"
            ]
          },
          "metadata": {
            "tags": [],
            "needs_background": "light"
          }
        }
      ]
    },
    {
      "cell_type": "code",
      "metadata": {
        "id": "UtrhT3MPon06"
      },
      "source": [
        "model.save('birds1.h5')"
      ],
      "execution_count": null,
      "outputs": []
    }
  ]
}