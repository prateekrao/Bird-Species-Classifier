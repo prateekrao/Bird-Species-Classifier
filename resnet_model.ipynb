{
  "nbformat": 4,
  "nbformat_minor": 0,
  "metadata": {
    "colab": {
      "name": "resnet.ipynb",
      "provenance": [],
      "mount_file_id": "1JQzOvn9mmdPesEdmAwM1d5JwBIiaD6ao",
      "authorship_tag": "ABX9TyOb/Yz18xDrCpzhxqEKeH+h",
      "include_colab_link": true
    },
    "kernelspec": {
      "name": "python3",
      "display_name": "Python 3"
    },
    "language_info": {
      "name": "python"
    },
    "accelerator": "GPU"
  },
  "cells": [
    {
      "cell_type": "markdown",
      "metadata": {
        "id": "view-in-github",
        "colab_type": "text"
      },
      "source": [
        "<a href=\"https://colab.research.google.com/github/prateekrao/Bird-Species-Classifier/blob/main/resnet_model.ipynb\" target=\"_parent\"><img src=\"https://colab.research.google.com/assets/colab-badge.svg\" alt=\"Open In Colab\"/></a>"
      ]
    },
    {
      "cell_type": "code",
      "metadata": {
        "id": "I3eiDccqtO-5"
      },
      "source": [
        "!unzip \"/content/drive/MyDrive/split-data.zip\""
      ],
      "execution_count": null,
      "outputs": []
    },
    {
      "cell_type": "code",
      "metadata": {
        "id": "uRetoFxpuMac"
      },
      "source": [
        "import tensorflow as tf\n",
        "import keras\n",
        "from keras.layers import Conv2D, MaxPooling2D, Dense, Dropout, BatchNormalization, Flatten, GlobalAveragePooling2D\n",
        "from keras.applications.densenet import DenseNet169, DenseNet121\n",
        "from keras.applications import ResNet101\n",
        "from keras.optimizers import Adam\n",
        "from keras.callbacks import ModelCheckpoint\n",
        "from keras.preprocessing.image import ImageDataGenerator\n",
        "from keras.regularizers import l1, l2, l1_l2\n",
        "import matplotlib.pyplot as plt"
      ],
      "execution_count": null,
      "outputs": []
    },
    {
      "cell_type": "code",
      "metadata": {
        "id": "GXm7Mzy7DzXz"
      },
      "source": [
        "traingen = ImageDataGenerator(\n",
        "    rescale = 1./255,\n",
        "    rotation_range = 45\n",
        ")"
      ],
      "execution_count": null,
      "outputs": []
    },
    {
      "cell_type": "code",
      "metadata": {
        "colab": {
          "base_uri": "https://localhost:8080/"
        },
        "id": "vQ2uKyutMNUr",
        "outputId": "35956f64-336a-4874-b7c8-06b8ff3e6014"
      },
      "source": [
        "train_set = traingen.flow_from_directory(\n",
        "    \"/content/split-data/train\",\n",
        "    target_size = (50,50),\n",
        "    color_mode= 'rgb',\n",
        "    class_mode = 'sparse',\n",
        "    shuffle = True,\n",
        ")"
      ],
      "execution_count": null,
      "outputs": [
        {
          "output_type": "stream",
          "text": [
            "Found 194266 images belonging to 2 classes.\n"
          ],
          "name": "stdout"
        }
      ]
    },
    {
      "cell_type": "code",
      "metadata": {
        "colab": {
          "base_uri": "https://localhost:8080/"
        },
        "id": "Zsw7Gg-mMemj",
        "outputId": "bb57d0ba-1294-4f5b-bad1-c9452dc1f1b2"
      },
      "source": [
        "valid_set = traingen.flow_from_directory(\n",
        "    \"/content/split-data/valid\",\n",
        "    target_size = (50,50),\n",
        "    class_mode = 'sparse',\n",
        "    color_mode = 'rgb',\n",
        "    shuffle = True\n",
        ")"
      ],
      "execution_count": null,
      "outputs": [
        {
          "output_type": "stream",
          "text": [
            "Found 41629 images belonging to 2 classes.\n"
          ],
          "name": "stdout"
        }
      ]
    },
    {
      "cell_type": "code",
      "metadata": {
        "id": "6iYDYhXgMpgH"
      },
      "source": [
        "testgen = ImageDataGenerator(\n",
        "    rescale = 1./255\n",
        ")"
      ],
      "execution_count": null,
      "outputs": []
    },
    {
      "cell_type": "code",
      "metadata": {
        "colab": {
          "base_uri": "https://localhost:8080/"
        },
        "id": "jN7jR-DKMuLM",
        "outputId": "8508eefb-cd76-447e-8b39-d1ea4d361bc1"
      },
      "source": [
        "test_set = testgen.flow_from_directory(\n",
        "    \"/content/split-data/test\",\n",
        "    target_size = (50,50),\n",
        "    class_mode = 'sparse',\n",
        "    color_mode = 'rgb',\n",
        "    shuffle = False\n",
        ")"
      ],
      "execution_count": null,
      "outputs": [
        {
          "output_type": "stream",
          "text": [
            "Found 41629 images belonging to 2 classes.\n"
          ],
          "name": "stdout"
        }
      ]
    },
    {
      "cell_type": "code",
      "metadata": {
        "id": "546D7rymusGj"
      },
      "source": [
        "def build_model():\n",
        "\n",
        "  resnet = ResNet101(include_top=False, weights = 'imagenet', input_shape = (50,50,3))\n",
        "  for layer in resnet.layers[-50:-1]:\n",
        "    layer.trainable = False\n",
        "\n",
        "  model = tf.keras.models.Sequential()\n",
        "\n",
        "  model.add(resnet)\n",
        "  model.add(GlobalAveragePooling2D())\n",
        "  \n",
        "  model.add(Dense(512, activation='relu', kernel_regularizer=l1_l2(l1=1e-04, l2=1e-04)))\n",
        "  model.add(Dropout(0.5))\n",
        "  model.add(Dense(512, activation= 'relu', kernel_regularizer=l1_l2(l1 = 1e-05, l2= 1e-05)))\n",
        "  #model.add(Dropout(0.5))\n",
        "  #model.add(Dense(512, activation='relu', kernel_regularizer=l1_l2(l1=1e-03, l2=1e-03)))\n",
        "  #model.add(Dropout(0.5))\n",
        "  #model.add(Dense(512, activation='relu', kernel_regularizer=l1_l2(l1 = 1e-02, l2=1e-02)))\n",
        "  model.add(Dense(2, activation='softmax'))\n",
        "  \n",
        "  return model"
      ],
      "execution_count": null,
      "outputs": []
    },
    {
      "cell_type": "code",
      "metadata": {
        "colab": {
          "base_uri": "https://localhost:8080/"
        },
        "id": "itrQPqlRu3o5",
        "outputId": "c96bf75a-57a7-49d6-e263-cb976ad139b5"
      },
      "source": [
        "\n",
        "model = build_model()\n",
        "model.compile(\n",
        "      optimizer=tf.keras.optimizers.Adam(lr = 6e-05),\n",
        "      loss='sparse_categorical_crossentropy',\n",
        "      metrics=['sparse_categorical_accuracy'])"
      ],
      "execution_count": null,
      "outputs": [
        {
          "output_type": "stream",
          "text": [
            "Downloading data from https://storage.googleapis.com/tensorflow/keras-applications/resnet/resnet101_weights_tf_dim_ordering_tf_kernels_notop.h5\n",
            "171450368/171446536 [==============================] - 1s 0us/step\n"
          ],
          "name": "stdout"
        }
      ]
    },
    {
      "cell_type": "code",
      "metadata": {
        "colab": {
          "base_uri": "https://localhost:8080/"
        },
        "id": "S979iadcvHpC",
        "outputId": "5d5c2a43-a181-4d94-a349-bbcb9ae50eaa"
      },
      "source": [
        "model.summary()"
      ],
      "execution_count": null,
      "outputs": [
        {
          "output_type": "stream",
          "text": [
            "Model: \"sequential\"\n",
            "_________________________________________________________________\n",
            "Layer (type)                 Output Shape              Param #   \n",
            "=================================================================\n",
            "resnet101 (Functional)       (None, 2, 2, 2048)        42658176  \n",
            "_________________________________________________________________\n",
            "global_average_pooling2d (Gl (None, 2048)              0         \n",
            "_________________________________________________________________\n",
            "dense (Dense)                (None, 512)               1049088   \n",
            "_________________________________________________________________\n",
            "dropout (Dropout)            (None, 512)               0         \n",
            "_________________________________________________________________\n",
            "dense_1 (Dense)              (None, 512)               262656    \n",
            "_________________________________________________________________\n",
            "dense_2 (Dense)              (None, 2)                 1026      \n",
            "=================================================================\n",
            "Total params: 43,970,946\n",
            "Trainable params: 26,915,074\n",
            "Non-trainable params: 17,055,872\n",
            "_________________________________________________________________\n"
          ],
          "name": "stdout"
        }
      ]
    },
    {
      "cell_type": "code",
      "metadata": {
        "colab": {
          "base_uri": "https://localhost:8080/"
        },
        "id": "XN4PR3IFvJin",
        "outputId": "c75fb07e-90a9-4d94-a868-91536b874739"
      },
      "source": [
        "history = model.fit(train_set, validation_data=valid_set, epochs = 20, shuffle = True, batch_size = 32)"
      ],
      "execution_count": null,
      "outputs": [
        {
          "output_type": "stream",
          "text": [
            "Epoch 1/20\n",
            "6071/6071 [==============================] - 579s 89ms/step - loss: 1.9691 - sparse_categorical_accuracy: 0.8527 - val_loss: 0.4785 - val_sparse_categorical_accuracy: 0.8851\n",
            "Epoch 2/20\n",
            "6071/6071 [==============================] - 521s 86ms/step - loss: 0.4188 - sparse_categorical_accuracy: 0.8872 - val_loss: 0.3329 - val_sparse_categorical_accuracy: 0.8945\n",
            "Epoch 3/20\n",
            "6071/6071 [==============================] - 522s 86ms/step - loss: 0.3182 - sparse_categorical_accuracy: 0.8943 - val_loss: 0.3605 - val_sparse_categorical_accuracy: 0.8740\n",
            "Epoch 4/20\n",
            "6071/6071 [==============================] - 522s 86ms/step - loss: 0.2828 - sparse_categorical_accuracy: 0.8972 - val_loss: 0.2998 - val_sparse_categorical_accuracy: 0.8875\n",
            "Epoch 5/20\n",
            "6071/6071 [==============================] - 522s 86ms/step - loss: 0.2609 - sparse_categorical_accuracy: 0.9014 - val_loss: 0.2628 - val_sparse_categorical_accuracy: 0.8989\n",
            "Epoch 6/20\n",
            "6071/6071 [==============================] - 522s 86ms/step - loss: 0.2476 - sparse_categorical_accuracy: 0.9054 - val_loss: 0.2613 - val_sparse_categorical_accuracy: 0.8994\n",
            "Epoch 7/20\n",
            "6071/6071 [==============================] - 526s 87ms/step - loss: 0.2375 - sparse_categorical_accuracy: 0.9092 - val_loss: 0.2564 - val_sparse_categorical_accuracy: 0.9009\n",
            "Epoch 8/20\n",
            "6071/6071 [==============================] - 533s 88ms/step - loss: 0.2283 - sparse_categorical_accuracy: 0.9118 - val_loss: 0.2584 - val_sparse_categorical_accuracy: 0.8989\n",
            "Epoch 9/20\n",
            "6071/6071 [==============================] - 534s 88ms/step - loss: 0.2194 - sparse_categorical_accuracy: 0.9154 - val_loss: 0.2491 - val_sparse_categorical_accuracy: 0.9028\n",
            "Epoch 10/20\n",
            "6071/6071 [==============================] - 532s 88ms/step - loss: 0.2137 - sparse_categorical_accuracy: 0.9168 - val_loss: 0.2598 - val_sparse_categorical_accuracy: 0.9017\n",
            "Epoch 11/20\n",
            "6071/6071 [==============================] - 532s 88ms/step - loss: 0.2040 - sparse_categorical_accuracy: 0.9211 - val_loss: 0.2859 - val_sparse_categorical_accuracy: 0.8922\n",
            "Epoch 12/20\n",
            "6071/6071 [==============================] - 532s 88ms/step - loss: 0.2003 - sparse_categorical_accuracy: 0.9213 - val_loss: 0.2599 - val_sparse_categorical_accuracy: 0.8956\n",
            "Epoch 13/20\n",
            "6071/6071 [==============================] - 531s 88ms/step - loss: 0.1916 - sparse_categorical_accuracy: 0.9262 - val_loss: 0.2571 - val_sparse_categorical_accuracy: 0.8991\n",
            "Epoch 14/20\n",
            "6071/6071 [==============================] - 534s 88ms/step - loss: 0.1832 - sparse_categorical_accuracy: 0.9309 - val_loss: 0.2862 - val_sparse_categorical_accuracy: 0.8949\n",
            "Epoch 15/20\n",
            "6071/6071 [==============================] - 534s 88ms/step - loss: 0.1771 - sparse_categorical_accuracy: 0.9325 - val_loss: 0.2543 - val_sparse_categorical_accuracy: 0.9029\n",
            "Epoch 16/20\n",
            "6071/6071 [==============================] - 535s 88ms/step - loss: 0.1690 - sparse_categorical_accuracy: 0.9363 - val_loss: 0.3559 - val_sparse_categorical_accuracy: 0.8928\n",
            "Epoch 17/20\n",
            "6071/6071 [==============================] - 534s 88ms/step - loss: 0.1633 - sparse_categorical_accuracy: 0.9378 - val_loss: 0.2586 - val_sparse_categorical_accuracy: 0.8992\n",
            "Epoch 18/20\n",
            "6071/6071 [==============================] - 530s 87ms/step - loss: 0.1543 - sparse_categorical_accuracy: 0.9428 - val_loss: 0.2690 - val_sparse_categorical_accuracy: 0.8976\n",
            "Epoch 19/20\n",
            "6071/6071 [==============================] - 534s 88ms/step - loss: 0.1519 - sparse_categorical_accuracy: 0.9430 - val_loss: 0.2680 - val_sparse_categorical_accuracy: 0.8985\n",
            "Epoch 20/20\n",
            "6071/6071 [==============================] - 533s 88ms/step - loss: 0.1448 - sparse_categorical_accuracy: 0.9463 - val_loss: 0.2855 - val_sparse_categorical_accuracy: 0.8998\n"
          ],
          "name": "stdout"
        }
      ]
    },
    {
      "cell_type": "code",
      "metadata": {
        "colab": {
          "base_uri": "https://localhost:8080/"
        },
        "id": "myMlnk3Bvql6",
        "outputId": "7b1f1f57-6e0a-467b-c83a-9aa50632154b"
      },
      "source": [
        "model.evaluate(test_set)"
      ],
      "execution_count": null,
      "outputs": [
        {
          "output_type": "stream",
          "text": [
            "1301/1301 [==============================] - 46s 35ms/step - loss: 0.3087 - sparse_categorical_accuracy: 0.8979\n"
          ],
          "name": "stdout"
        },
        {
          "output_type": "execute_result",
          "data": {
            "text/plain": [
              "[0.30868151783943176, 0.8979077339172363]"
            ]
          },
          "metadata": {
            "tags": []
          },
          "execution_count": 12
        }
      ]
    },
    {
      "cell_type": "code",
      "metadata": {
        "id": "iYgR05HkBRac"
      },
      "source": [
        ""
      ],
      "execution_count": null,
      "outputs": []
    }
  ]
}